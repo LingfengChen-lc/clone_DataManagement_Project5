{
 "cells": [
  {
   "cell_type": "markdown",
   "metadata": {},
   "source": [
    "# 1. Write some documentation"
   ]
  },
  {
   "cell_type": "markdown",
   "metadata": {},
   "source": [
    "The data are the latest transactions of cryptocurrencies happened in major exchange websites and the metadata of the exchange websites. \n",
    "\n",
    "how it was collected: from the FAQ section learned that they collect data through API of their data sources, so not sure about the origin source.\n",
    "\n",
    "link to the API's documentation: https://docs.coinapi.io/?python#introduction\n",
    "\n",
    "link to the specific endpoint(s): 'https://rest.coinapi.io/v1/exchanges' & 'https://rest.coinapi.io/v1/trades/latest'\n",
    "\n",
    "Structure: it's a list of dictionaries"
   ]
  },
  {
   "cell_type": "markdown",
   "metadata": {},
   "source": [
    "## Test request"
   ]
  },
  {
   "cell_type": "code",
   "execution_count": 120,
   "metadata": {},
   "outputs": [],
   "source": [
    "import requests\n",
    "import re\n",
    "import pandas as pd\n",
    "from bs4 import BeautifulSoup\n",
    "import json\n",
    "pd.set_option('display.max_rows', 200)"
   ]
  },
  {
   "cell_type": "code",
   "execution_count": 121,
   "metadata": {},
   "outputs": [],
   "source": [
    "#TODO: fill api key\n",
    "api_key = \"CEABFBD9-2B2A-4EAE-A771-5250E2CD64D6\"\n",
    "#no parameters in this case\n",
    "url = 'https://rest.coinapi.io/v1/exchanges'\n",
    "headers = {'X-CoinAPI-Key' : api_key}\n",
    "res = requests.get(url, headers=headers)\n",
    "dom = BeautifulSoup(res.text, 'lxml')"
   ]
  },
  {
   "cell_type": "code",
   "execution_count": 122,
   "metadata": {},
   "outputs": [
    {
     "data": {
      "text/plain": [
       "{'exchange_id': 'OKCOIN_CNY',\n",
       " 'website': 'https://www.okcoin.cn/',\n",
       " 'name': 'OKCoin CNY',\n",
       " 'data_start': '2013-06-12',\n",
       " 'data_end': '2018-03-09',\n",
       " 'data_quote_start': '2015-02-15T12:53:50.3430000Z',\n",
       " 'data_quote_end': '2018-03-09T23:34:52.5800000Z',\n",
       " 'data_orderbook_start': '2015-02-15T12:53:50.3430000Z',\n",
       " 'data_orderbook_end': '2018-03-09T23:34:52.5800000Z',\n",
       " 'data_trade_start': '2013-06-12T14:24:24.0000000Z',\n",
       " 'data_trade_end': '2017-11-01T16:30:39.7077259Z',\n",
       " 'data_symbols_count': 2,\n",
       " 'volume_1hrs_usd': 0.0,\n",
       " 'volume_1day_usd': 0.0,\n",
       " 'volume_1mth_usd': 0.0}"
      ]
     },
     "execution_count": 122,
     "metadata": {},
     "output_type": "execute_result"
    }
   ],
   "source": [
    "json.loads(dom.string)[0]"
   ]
  },
  {
   "cell_type": "markdown",
   "metadata": {},
   "source": [
    "# 2. Retrieve the data, create a DataFrame"
   ]
  },
  {
   "cell_type": "code",
   "execution_count": 123,
   "metadata": {},
   "outputs": [],
   "source": [
    "pd.set_option('display.max_rows', 300)\n",
    "exchange_web_df = pd.DataFrame(json.loads(dom.string))"
   ]
  },
  {
   "cell_type": "code",
   "execution_count": 124,
   "metadata": {},
   "outputs": [],
   "source": [
    "trades_url = 'https://rest.coinapi.io/v1/trades/latest'\n",
    "trade_res = requests.get(trades_url, headers=headers)"
   ]
  },
  {
   "cell_type": "code",
   "execution_count": 125,
   "metadata": {},
   "outputs": [],
   "source": [
    "dom2 = BeautifulSoup(trade_res.text, 'lxml')\n",
    "trades_df = pd.DataFrame(json.loads(dom2.string))"
   ]
  },
  {
   "cell_type": "markdown",
   "metadata": {},
   "source": [
    "## Attempt to merge two data frames to come up the latest transaction amount and type in exchange websites"
   ]
  },
  {
   "cell_type": "markdown",
   "metadata": {},
   "source": [
    "merge the two DataFrames and show certain column values"
   ]
  },
  {
   "cell_type": "code",
   "execution_count": 126,
   "metadata": {},
   "outputs": [],
   "source": [
    "trades_df['exchange_id'] = trades_df['symbol_id'].str.extract('([^_]*)')\n",
    "combine = pd.merge(exchange_web_df, trades_df, on='exchange_id', how='right').reindex(columns=['symbol_id', 'price', 'size', 'taker_side', 'volume_1hrs_usd'])\n",
    "combine['total'] = combine['price']"
   ]
  },
  {
   "cell_type": "markdown",
   "metadata": {},
   "source": [
    "group the price column by the symbol_id column then sum the price up for each symbol_id"
   ]
  },
  {
   "cell_type": "code",
   "execution_count": 127,
   "metadata": {},
   "outputs": [
    {
     "data": {
      "text/plain": [
       "symbol_id\n",
       "BIBOX_SPOT_4BTC_USDT        26351.400000\n",
       "BIBOX_SPOT_4EOS_USDT            7.282000\n",
       "BIBOX_SPOT_BAT_BIX              1.596307\n",
       "BIBOX_SPOT_BIX_USDT             0.140200\n",
       "BIBOX_SPOT_BTC_USDT         61507.674200\n",
       "BIBOX_SPOT_DDAM_ETH             0.001065\n",
       "BIBOX_SPOT_EOS_ETH              0.016105\n",
       "BIBOX_SPOT_EOS_USDT            10.923700\n",
       "BIBOX_SPOT_ETC_USDT            16.766500\n",
       "BIBOX_SPOT_ETH_BTC              0.025732\n",
       "BIBOX_SPOT_NEO_BTC              0.001348\n",
       "BIBOX_SPOT_ONT_BIX              5.087261\n",
       "BIBOX_SPOT_ONT_USDT             0.712900\n",
       "BIBOX_SPOT_RED_ETH              0.000104\n",
       "BIBOX_SPOT_TRX_ETH              0.000077\n",
       "BIBOX_SPOT_XRP_BTC              0.000027\n",
       "BINANCEFTS_PERP_BTC_USDT     8790.360000\n",
       "BINANCE_SPOT_BNB_ETH            0.088024\n",
       "BINANCE_SPOT_BTC_BUSD        8787.140000\n",
       "BINANCE_SPOT_BTC_USDT       17569.410000\n",
       "BINANCE_SPOT_BUSD_USDT          0.999700\n",
       "BINANCE_SPOT_HBAR_BTC           0.000005\n",
       "BINANCE_SPOT_TRX_USDC           0.017370\n",
       "BINANCE_SPOT_ZIL_BNB            0.000308\n",
       "BINANCE_SPOT_ZIL_ETH            0.000027\n",
       "BITFOREX_SPOT_KREX_USDT         0.032466\n",
       "BITHUMB_SPOT_LUNA_KRW         291.100000\n",
       "BW_SPOT_ATOM_ETH                0.016555\n",
       "COINBASE_SPOT_OXT_USD           0.729400\n",
       "COINEAL_SPOT_SW_USDT            0.184820\n",
       "HADAX_SPOT_ETH_USDT           452.300000\n",
       "HBDM_FTS_BTC_USD_200327      8880.570000\n",
       "HUOBIKR_SPOT_EOS_ETH            0.016100\n",
       "HUOBIKR_SPOT_ETH_USDT         452.300000\n",
       "HUOBIPRO_SPOT_EOS_ETH           0.032199\n",
       "KUCOIN_SPOT_ETH_BTC             0.102957\n",
       "KUCOIN_SPOT_TEL_ETH             0.000003\n",
       "OKEX_FTS_ETH_USD_200327       684.041000\n",
       "OKEX_SPOT_OKB_ETH               0.023978\n",
       "OKEX_SPOT_XTZ_USDT              2.851800\n",
       "ZBG_SPOT_CN_ETH                 0.000076\n",
       "ZB_SPOT_BTC_USDT             8785.980000\n",
       "ZB_SPOT_INK_QC                  0.015834\n",
       "Name: price, dtype: float64"
      ]
     },
     "execution_count": 127,
     "metadata": {},
     "output_type": "execute_result"
    }
   ],
   "source": [
    "\n",
    "combine['price'].groupby(combine['symbol_id']).sum()"
   ]
  },
  {
   "cell_type": "code",
   "execution_count": null,
   "metadata": {},
   "outputs": [],
   "source": []
  }
 ],
 "metadata": {
  "kernelspec": {
   "display_name": "Python 3",
   "language": "python",
   "name": "python3"
  },
  "language_info": {
   "codemirror_mode": {
    "name": "ipython",
    "version": 3
   },
   "file_extension": ".py",
   "mimetype": "text/x-python",
   "name": "python",
   "nbconvert_exporter": "python",
   "pygments_lexer": "ipython3",
   "version": "3.7.5"
  }
 },
 "nbformat": 4,
 "nbformat_minor": 4
}
